{
 "cells": [
  {
   "cell_type": "markdown",
   "metadata": {},
   "source": [
    "# #4 Discovering Butterfree - Streaming Feature Sets\n",
    "\n",
    "This tutorial will cover how to create a feature set having a streaming data source.\n",
    "\n",
    "Before diving into the tutorial make sure you have seen the other tutorials, and have a basic understanding of the main features of the library, since this tutorial will not explain it again.\n"
   ]
  },
  {
   "cell_type": "markdown",
   "metadata": {},
   "source": [
    "## Example:\n",
    "Simulating the following scenario:\n",
    "\n",
    "- We have a streaming JSON data source with events of Pokémons being captured in real time.\n",
    "- We have a Pokédex data set with more information about specific Pokémons\n",
    "\n",
    "\n",
    "Objective: \n",
    "\n",
    "We want to parse the JSON from the streaming source, get the desired information merging the records with enriched data coming from Pokédex dataset.\n",
    "Our desire is to have a real time output with the schema:\n",
    "\n",
    "- **id_capture**: int\n",
    "- **timestamp**: timestamp\n",
    "- **id_pokemon**: int\n",
    "- **pokemon_name**: string\n",
    "- **pokemon_type**: string\n",
    "\n",
    "The following code blocks will show how to generate this feature set using Butterfree library:"
   ]
  },
  {
   "cell_type": "code",
   "execution_count": 1,
   "metadata": {},
   "outputs": [],
   "source": [
    "# setup spark\n",
    "from pyspark import SparkContext, SparkConf\n",
    "from pyspark.sql import session\n",
    "\n",
    "conf = SparkConf().set('spark.driver.host','127.0.0.1')\n",
    "sc = SparkContext(conf=conf)\n",
    "spark = session.SparkSession(sc)"
   ]
  },
  {
   "cell_type": "code",
   "execution_count": 2,
   "metadata": {},
   "outputs": [],
   "source": [
    "# fix working dir\n",
    "import pathlib\n",
    "import os\n",
    "\n",
    "try:\n",
    "    print(path)\n",
    "except NameError:\n",
    "    path = os.path.join(pathlib.Path().absolute(), '../..')\n",
    "\n",
    "os.chdir(path)\n",
    "EXAMPLE_PATH = \"examples/streaming_feature_set/\" "
   ]
  },
  {
   "cell_type": "code",
   "execution_count": 3,
   "metadata": {},
   "outputs": [],
   "source": [
    "# butterfree spark client\n",
    "from butterfree.clients import SparkClient\n",
    "\n",
    "spark_client = SparkClient()"
   ]
  },
  {
   "cell_type": "code",
   "execution_count": 4,
   "metadata": {},
   "outputs": [],
   "source": [
    "# stream data generator\n",
    "from datetime import datetime\n",
    "import glob\n",
    "import json\n",
    "import os\n",
    "import random\n",
    "from time import monotonic, sleep\n",
    "from multiprocessing import Process\n",
    "\n",
    "IDS = [1, 2, 3, 4, 5, 6]\n",
    "POKEBALLS = [\"Normal\", \"Great\", \"Ultra\"]\n",
    "\n",
    "\n",
    "def clean_events_folder():\n",
    "    files = glob.glob(f\"{EXAMPLE_PATH}events/*\")\n",
    "    for f in files:\n",
    "        os.remove(f)\n",
    "\n",
    "\n",
    "def create_random_event(counter=0):\n",
    "    return {\n",
    "        \"id\": counter,\n",
    "        \"timestamp\": round(monotonic() * 1000),\n",
    "        \"payload\": f\"{{\\\"id_pokemon\\\": {random.choice(IDS)}, \\\"pokeball\\\": \\\"{random.choice(POKEBALLS)}\\\"}}\"\n",
    "        }\n",
    "\n",
    "def start_stream(wait_time=2):\n",
    "    clean_events_folder()\n",
    "    counter = 0\n",
    "    while True:\n",
    "        event = create_random_event(counter)\n",
    "        file_name = f\"{EXAMPLE_PATH}events/{event['timestamp']}.json\"\n",
    "        with open(file_name, \"w\") as file:\n",
    "            json.dump(event, file)\n",
    "        sleep(wait_time)\n",
    "        counter += 1\n",
    "\n",
    "p = Process(target=start_stream)\n",
    "p.start()"
   ]
  },
  {
   "cell_type": "markdown",
   "metadata": {},
   "source": [
    "### Showing test data"
   ]
  },
  {
   "cell_type": "code",
   "execution_count": 5,
   "metadata": {},
   "outputs": [
    {
     "name": "stdout",
     "output_type": "stream",
     "text": [
      ">>> events :\n"
     ]
    },
    {
     "data": {
      "text/html": [
       "<div>\n",
       "<style scoped>\n",
       "    .dataframe tbody tr th:only-of-type {\n",
       "        vertical-align: middle;\n",
       "    }\n",
       "\n",
       "    .dataframe tbody tr th {\n",
       "        vertical-align: top;\n",
       "    }\n",
       "\n",
       "    .dataframe thead th {\n",
       "        text-align: right;\n",
       "    }\n",
       "</style>\n",
       "<table border=\"1\" class=\"dataframe\">\n",
       "  <thead>\n",
       "    <tr style=\"text-align: right;\">\n",
       "      <th></th>\n",
       "      <th>id</th>\n",
       "      <th>payload</th>\n",
       "      <th>timestamp</th>\n",
       "    </tr>\n",
       "  </thead>\n",
       "  <tbody>\n",
       "    <tr>\n",
       "      <th>0</th>\n",
       "      <td>0</td>\n",
       "      <td>{\"id_pokemon\": 6, \"pokeball\": \"Great\"}</td>\n",
       "      <td>32922718</td>\n",
       "    </tr>\n",
       "  </tbody>\n",
       "</table>\n",
       "</div>"
      ],
      "text/plain": [
       "   id                                 payload  timestamp\n",
       "0   0  {\"id_pokemon\": 6, \"pokeball\": \"Great\"}   32922718"
      ]
     },
     "execution_count": 5,
     "metadata": {},
     "output_type": "execute_result"
    }
   ],
   "source": [
    "events_df = spark.read.json(\"events/\")\n",
    "# events_df.createOrReplaceTempView(\"events\")  # creating listing_events table\n",
    "\n",
    "print(\">>> events :\")\n",
    "events_df.toPandas()"
   ]
  },
  {
   "cell_type": "code",
   "execution_count": 6,
   "metadata": {},
   "outputs": [
    {
     "name": "stdout",
     "output_type": "stream",
     "text": [
      ">>> pokedex.json file:\n"
     ]
    },
    {
     "data": {
      "text/html": [
       "<div>\n",
       "<style scoped>\n",
       "    .dataframe tbody tr th:only-of-type {\n",
       "        vertical-align: middle;\n",
       "    }\n",
       "\n",
       "    .dataframe tbody tr th {\n",
       "        vertical-align: top;\n",
       "    }\n",
       "\n",
       "    .dataframe thead th {\n",
       "        text-align: right;\n",
       "    }\n",
       "</style>\n",
       "<table border=\"1\" class=\"dataframe\">\n",
       "  <thead>\n",
       "    <tr style=\"text-align: right;\">\n",
       "      <th></th>\n",
       "      <th>id</th>\n",
       "      <th>name</th>\n",
       "      <th>type</th>\n",
       "    </tr>\n",
       "  </thead>\n",
       "  <tbody>\n",
       "    <tr>\n",
       "      <th>0</th>\n",
       "      <td>1</td>\n",
       "      <td>Geodude</td>\n",
       "      <td>Rock</td>\n",
       "    </tr>\n",
       "    <tr>\n",
       "      <th>1</th>\n",
       "      <td>2</td>\n",
       "      <td>Bulbasaur</td>\n",
       "      <td>Grass</td>\n",
       "    </tr>\n",
       "    <tr>\n",
       "      <th>2</th>\n",
       "      <td>3</td>\n",
       "      <td>Pikachu</td>\n",
       "      <td>Electric</td>\n",
       "    </tr>\n",
       "    <tr>\n",
       "      <th>3</th>\n",
       "      <td>4</td>\n",
       "      <td>Eevee</td>\n",
       "      <td>Normal</td>\n",
       "    </tr>\n",
       "    <tr>\n",
       "      <th>4</th>\n",
       "      <td>5</td>\n",
       "      <td>Oddish</td>\n",
       "      <td>Grass</td>\n",
       "    </tr>\n",
       "    <tr>\n",
       "      <th>5</th>\n",
       "      <td>6</td>\n",
       "      <td>Magikarp</td>\n",
       "      <td>Water</td>\n",
       "    </tr>\n",
       "  </tbody>\n",
       "</table>\n",
       "</div>"
      ],
      "text/plain": [
       "   id       name      type\n",
       "0   1    Geodude      Rock\n",
       "1   2  Bulbasaur     Grass\n",
       "2   3    Pikachu  Electric\n",
       "3   4      Eevee    Normal\n",
       "4   5     Oddish     Grass\n",
       "5   6   Magikarp     Water"
      ]
     },
     "execution_count": 6,
     "metadata": {},
     "output_type": "execute_result"
    }
   ],
   "source": [
    "print(\">>> pokedex.json file:\")\n",
    "spark.read.json(\"pokedex.json\").toPandas()"
   ]
  },
  {
   "cell_type": "markdown",
   "metadata": {},
   "source": [
    "### Extract\n",
    "\n",
    "- This example shows that dealing with streaming sources with butterfree does not change the code too much.\n",
    "- We are just going to enable a Stream flag, so using Spark's `readStream` API.\n",
    "- We are going to use a `pre_processing` named `explode_json_column` to make it easier to access the payload fields."
   ]
  },
  {
   "cell_type": "code",
   "execution_count": 7,
   "metadata": {},
   "outputs": [],
   "source": [
    "# Building expected schema from payload\n",
    "\n",
    "from pyspark.sql.types import IntegerType, StringType, StructField, StructType\n",
    "\n",
    "payload_schema = StructType(\n",
    "    [StructField(\"id_pokemon\", IntegerType()), StructField(\"pokeball\", StringType())]\n",
    ")"
   ]
  },
  {
   "cell_type": "code",
   "execution_count": 8,
   "metadata": {},
   "outputs": [],
   "source": [
    "from butterfree.extract import Source\n",
    "from butterfree.extract.readers import FileReader\n",
    "from butterfree.extract.pre_processing import explode_json_column\n",
    "\n",
    "readers = [\n",
    "    FileReader(id=\"events\", path=\"events/\", format=\"json\", stream=True).with_(\n",
    "        transformer=explode_json_column, column=\"payload\", json_schema=payload_schema\n",
    "    ),\n",
    "    FileReader(id=\"pokedex\", path=\"pokedex.json\", format=\"json\")\n",
    "]\n",
    "\n",
    "query = \"\"\"\n",
    "select\n",
    "    events.*,\n",
    "    pokedex.name,\n",
    "    pokedex.type\n",
    "from\n",
    "    events\n",
    "    join pokedex\n",
    "        on events.id_pokemon = pokedex.id\n",
    "\"\"\"\n",
    "\n",
    "source = Source(readers=readers, query=query)"
   ]
  },
  {
   "cell_type": "code",
   "execution_count": 9,
   "metadata": {},
   "outputs": [],
   "source": [
    "source_df = source.construct(spark_client)"
   ]
  },
  {
   "cell_type": "code",
   "execution_count": 10,
   "metadata": {},
   "outputs": [
    {
     "data": {
      "text/plain": [
       "True"
      ]
     },
     "execution_count": 10,
     "metadata": {},
     "output_type": "execute_result"
    }
   ],
   "source": [
    "# showing that it is a Spark's streaming df\n",
    "source_df.isStreaming"
   ]
  },
  {
   "cell_type": "code",
   "execution_count": 11,
   "metadata": {},
   "outputs": [
    {
     "data": {
      "text/plain": [
       "'struct<id:bigint,payload:string,timestamp:bigint,id_pokemon:int,pokeball:string,name:string,type:string>'"
      ]
     },
     "execution_count": 11,
     "metadata": {},
     "output_type": "execute_result"
    }
   ],
   "source": [
    "# schema\n",
    "source_df.schema.simpleString()"
   ]
  },
  {
   "cell_type": "markdown",
   "metadata": {},
   "source": [
    "### Transform"
   ]
  },
  {
   "cell_type": "code",
   "execution_count": 12,
   "metadata": {},
   "outputs": [],
   "source": [
    "from butterfree.transform import FeatureSet\n",
    "from butterfree.transform.features import Feature, KeyFeature, TimestampFeature\n",
    "from butterfree.transform.transformations import SQLExpressionTransform\n",
    "from butterfree.transform.transformations import H3HashTransform\n",
    "from butterfree.constants import DataType\n",
    "\n",
    "keys = [\n",
    "    KeyFeature(\n",
    "        name=\"id_capture\",\n",
    "        description=\"Unique identificator code for pokemons.\",\n",
    "        from_column=\"id\",\n",
    "        dtype=DataType.INTEGER,\n",
    "    )\n",
    "]\n",
    "\n",
    "# from_ms = True because the data originally is not in a Timestamp format.\n",
    "ts_feature = TimestampFeature(from_ms=True)\n",
    "\n",
    "features = [\n",
    "    Feature(\n",
    "        name=\"id_pokemon\",\n",
    "        description=\"Pokemon unique identifier.\",\n",
    "        dtype=DataType.INTEGER,\n",
    "    ),\n",
    "    Feature(\n",
    "        name=\"pokemon_name\",\n",
    "        description=\"Pokemon's name.\",\n",
    "        from_column=\"name\",\n",
    "        dtype=DataType.STRING,\n",
    "    ),\n",
    "    Feature(\n",
    "        name=\"pokemon_type\",\n",
    "        description=\"Pokemon's element type.\",\n",
    "        from_column=\"type\",\n",
    "        dtype=DataType.STRING,\n",
    "    ),\n",
    "]\n",
    "\n",
    "feature_set = FeatureSet(\n",
    "    name=\"pokemon_capturing_events\",\n",
    "    entity=\"events\",  # entity: to which \"business context\" this feature set belongs\n",
    "    description=\"Features describring events about Pokemon's capturing and data from Pokedex.\",\n",
    "    keys=keys,\n",
    "    timestamp=ts_feature,\n",
    "    features=features,\n",
    ")"
   ]
  },
  {
   "cell_type": "code",
   "execution_count": 13,
   "metadata": {},
   "outputs": [],
   "source": [
    "feature_set_df = feature_set.construct(source_df, spark_client)"
   ]
  },
  {
   "cell_type": "code",
   "execution_count": 14,
   "metadata": {},
   "outputs": [
    {
     "data": {
      "text/plain": [
       "True"
      ]
     },
     "execution_count": 14,
     "metadata": {},
     "output_type": "execute_result"
    }
   ],
   "source": [
    "# showing that it is a Spark's streaming df\n",
    "feature_set_df.isStreaming"
   ]
  },
  {
   "cell_type": "code",
   "execution_count": 15,
   "metadata": {},
   "outputs": [
    {
     "data": {
      "text/plain": [
       "'struct<id_capture:int,timestamp:timestamp,id_pokemon:int,pokemon_name:string,pokemon_type:string>'"
      ]
     },
     "execution_count": 15,
     "metadata": {},
     "output_type": "execute_result"
    }
   ],
   "source": [
    "# schema\n",
    "feature_set_df.schema.simpleString()"
   ]
  },
  {
   "cell_type": "markdown",
   "metadata": {},
   "source": [
    "### Load\n",
    "\n",
    "- Using debug mode with a stream df will create a temporary view with that updates in real time (in memory)"
   ]
  },
  {
   "cell_type": "code",
   "execution_count": 16,
   "metadata": {},
   "outputs": [],
   "source": [
    "from butterfree.load.writers import (\n",
    "    OnlineFeatureStoreWriter,\n",
    ")\n",
    "from butterfree.load import Sink\n",
    "\n",
    "writers = [OnlineFeatureStoreWriter(debug_mode=True)]\n",
    "sink = Sink(writers=writers)"
   ]
  },
  {
   "cell_type": "markdown",
   "metadata": {},
   "source": [
    "## Pipeline"
   ]
  },
  {
   "cell_type": "code",
   "execution_count": 17,
   "metadata": {},
   "outputs": [],
   "source": [
    "from butterfree.pipelines import FeatureSetPipeline\n",
    "\n",
    "pipeline = FeatureSetPipeline(source=source, feature_set=feature_set, sink=sink)"
   ]
  },
  {
   "cell_type": "code",
   "execution_count": 18,
   "metadata": {},
   "outputs": [],
   "source": [
    "# asinc run when creating an in memory streaming view for sink \n",
    "pipeline.run()"
   ]
  },
  {
   "cell_type": "markdown",
   "metadata": {},
   "source": [
    "### Showing the results"
   ]
  },
  {
   "cell_type": "code",
   "execution_count": 19,
   "metadata": {},
   "outputs": [],
   "source": [
    "# waiting some time for new records\n",
    "sleep(10)"
   ]
  },
  {
   "cell_type": "code",
   "execution_count": 20,
   "metadata": {},
   "outputs": [
    {
     "name": "stdout",
     "output_type": "stream",
     "text": [
      ">>> Online Feature Store pokemon_capturing_events feature set table:\n"
     ]
    },
    {
     "data": {
      "text/html": [
       "<div>\n",
       "<style scoped>\n",
       "    .dataframe tbody tr th:only-of-type {\n",
       "        vertical-align: middle;\n",
       "    }\n",
       "\n",
       "    .dataframe tbody tr th {\n",
       "        vertical-align: top;\n",
       "    }\n",
       "\n",
       "    .dataframe thead th {\n",
       "        text-align: right;\n",
       "    }\n",
       "</style>\n",
       "<table border=\"1\" class=\"dataframe\">\n",
       "  <thead>\n",
       "    <tr style=\"text-align: right;\">\n",
       "      <th></th>\n",
       "      <th>id_capture</th>\n",
       "      <th>timestamp</th>\n",
       "      <th>id_pokemon</th>\n",
       "      <th>pokemon_name</th>\n",
       "      <th>pokemon_type</th>\n",
       "    </tr>\n",
       "  </thead>\n",
       "  <tbody>\n",
       "    <tr>\n",
       "      <th>0</th>\n",
       "      <td>8</td>\n",
       "      <td>1970-01-01 06:08:58</td>\n",
       "      <td>5</td>\n",
       "      <td>Oddish</td>\n",
       "      <td>Grass</td>\n",
       "    </tr>\n",
       "    <tr>\n",
       "      <th>1</th>\n",
       "      <td>7</td>\n",
       "      <td>1970-01-01 06:08:56</td>\n",
       "      <td>3</td>\n",
       "      <td>Pikachu</td>\n",
       "      <td>Electric</td>\n",
       "    </tr>\n",
       "    <tr>\n",
       "      <th>2</th>\n",
       "      <td>6</td>\n",
       "      <td>1970-01-01 06:08:54</td>\n",
       "      <td>3</td>\n",
       "      <td>Pikachu</td>\n",
       "      <td>Electric</td>\n",
       "    </tr>\n",
       "    <tr>\n",
       "      <th>3</th>\n",
       "      <td>5</td>\n",
       "      <td>1970-01-01 06:08:52</td>\n",
       "      <td>5</td>\n",
       "      <td>Oddish</td>\n",
       "      <td>Grass</td>\n",
       "    </tr>\n",
       "    <tr>\n",
       "      <th>4</th>\n",
       "      <td>4</td>\n",
       "      <td>1970-01-01 06:08:50</td>\n",
       "      <td>1</td>\n",
       "      <td>Geodude</td>\n",
       "      <td>Rock</td>\n",
       "    </tr>\n",
       "    <tr>\n",
       "      <th>5</th>\n",
       "      <td>3</td>\n",
       "      <td>1970-01-01 06:08:48</td>\n",
       "      <td>4</td>\n",
       "      <td>Eevee</td>\n",
       "      <td>Normal</td>\n",
       "    </tr>\n",
       "    <tr>\n",
       "      <th>6</th>\n",
       "      <td>2</td>\n",
       "      <td>1970-01-01 06:08:46</td>\n",
       "      <td>4</td>\n",
       "      <td>Eevee</td>\n",
       "      <td>Normal</td>\n",
       "    </tr>\n",
       "    <tr>\n",
       "      <th>7</th>\n",
       "      <td>1</td>\n",
       "      <td>1970-01-01 06:08:44</td>\n",
       "      <td>5</td>\n",
       "      <td>Oddish</td>\n",
       "      <td>Grass</td>\n",
       "    </tr>\n",
       "    <tr>\n",
       "      <th>8</th>\n",
       "      <td>0</td>\n",
       "      <td>1970-01-01 06:08:42</td>\n",
       "      <td>6</td>\n",
       "      <td>Magikarp</td>\n",
       "      <td>Water</td>\n",
       "    </tr>\n",
       "  </tbody>\n",
       "</table>\n",
       "</div>"
      ],
      "text/plain": [
       "   id_capture           timestamp  id_pokemon pokemon_name pokemon_type\n",
       "0           8 1970-01-01 06:08:58           5       Oddish        Grass\n",
       "1           7 1970-01-01 06:08:56           3      Pikachu     Electric\n",
       "2           6 1970-01-01 06:08:54           3      Pikachu     Electric\n",
       "3           5 1970-01-01 06:08:52           5       Oddish        Grass\n",
       "4           4 1970-01-01 06:08:50           1      Geodude         Rock\n",
       "5           3 1970-01-01 06:08:48           4        Eevee       Normal\n",
       "6           2 1970-01-01 06:08:46           4        Eevee       Normal\n",
       "7           1 1970-01-01 06:08:44           5       Oddish        Grass\n",
       "8           0 1970-01-01 06:08:42           6     Magikarp        Water"
      ]
     },
     "execution_count": 20,
     "metadata": {},
     "output_type": "execute_result"
    }
   ],
   "source": [
    "print(\">>> Online Feature Store pokemon_capturing_events feature set table:\")\n",
    "spark.table(\"online_feature_store__pokemon_capturing_events\").orderBy(\n",
    "    \"id_capture\", \"timestamp\", ascending=False\n",
    ").toPandas()"
   ]
  },
  {
   "cell_type": "code",
   "execution_count": 21,
   "metadata": {},
   "outputs": [],
   "source": [
    "# waiting some time for new records\n",
    "sleep(10)"
   ]
  },
  {
   "cell_type": "code",
   "execution_count": 22,
   "metadata": {},
   "outputs": [
    {
     "data": {
      "text/html": [
       "<div>\n",
       "<style scoped>\n",
       "    .dataframe tbody tr th:only-of-type {\n",
       "        vertical-align: middle;\n",
       "    }\n",
       "\n",
       "    .dataframe tbody tr th {\n",
       "        vertical-align: top;\n",
       "    }\n",
       "\n",
       "    .dataframe thead th {\n",
       "        text-align: right;\n",
       "    }\n",
       "</style>\n",
       "<table border=\"1\" class=\"dataframe\">\n",
       "  <thead>\n",
       "    <tr style=\"text-align: right;\">\n",
       "      <th></th>\n",
       "      <th>id_capture</th>\n",
       "      <th>timestamp</th>\n",
       "      <th>id_pokemon</th>\n",
       "      <th>pokemon_name</th>\n",
       "      <th>pokemon_type</th>\n",
       "    </tr>\n",
       "  </thead>\n",
       "  <tbody>\n",
       "    <tr>\n",
       "      <th>0</th>\n",
       "      <td>13</td>\n",
       "      <td>1970-01-01 06:09:08</td>\n",
       "      <td>2</td>\n",
       "      <td>Bulbasaur</td>\n",
       "      <td>Grass</td>\n",
       "    </tr>\n",
       "    <tr>\n",
       "      <th>1</th>\n",
       "      <td>12</td>\n",
       "      <td>1970-01-01 06:09:06</td>\n",
       "      <td>1</td>\n",
       "      <td>Geodude</td>\n",
       "      <td>Rock</td>\n",
       "    </tr>\n",
       "    <tr>\n",
       "      <th>2</th>\n",
       "      <td>11</td>\n",
       "      <td>1970-01-01 06:09:04</td>\n",
       "      <td>5</td>\n",
       "      <td>Oddish</td>\n",
       "      <td>Grass</td>\n",
       "    </tr>\n",
       "    <tr>\n",
       "      <th>3</th>\n",
       "      <td>10</td>\n",
       "      <td>1970-01-01 06:09:02</td>\n",
       "      <td>1</td>\n",
       "      <td>Geodude</td>\n",
       "      <td>Rock</td>\n",
       "    </tr>\n",
       "    <tr>\n",
       "      <th>4</th>\n",
       "      <td>9</td>\n",
       "      <td>1970-01-01 06:09:00</td>\n",
       "      <td>6</td>\n",
       "      <td>Magikarp</td>\n",
       "      <td>Water</td>\n",
       "    </tr>\n",
       "    <tr>\n",
       "      <th>5</th>\n",
       "      <td>8</td>\n",
       "      <td>1970-01-01 06:08:58</td>\n",
       "      <td>5</td>\n",
       "      <td>Oddish</td>\n",
       "      <td>Grass</td>\n",
       "    </tr>\n",
       "    <tr>\n",
       "      <th>6</th>\n",
       "      <td>7</td>\n",
       "      <td>1970-01-01 06:08:56</td>\n",
       "      <td>3</td>\n",
       "      <td>Pikachu</td>\n",
       "      <td>Electric</td>\n",
       "    </tr>\n",
       "    <tr>\n",
       "      <th>7</th>\n",
       "      <td>6</td>\n",
       "      <td>1970-01-01 06:08:54</td>\n",
       "      <td>3</td>\n",
       "      <td>Pikachu</td>\n",
       "      <td>Electric</td>\n",
       "    </tr>\n",
       "    <tr>\n",
       "      <th>8</th>\n",
       "      <td>5</td>\n",
       "      <td>1970-01-01 06:08:52</td>\n",
       "      <td>5</td>\n",
       "      <td>Oddish</td>\n",
       "      <td>Grass</td>\n",
       "    </tr>\n",
       "    <tr>\n",
       "      <th>9</th>\n",
       "      <td>4</td>\n",
       "      <td>1970-01-01 06:08:50</td>\n",
       "      <td>1</td>\n",
       "      <td>Geodude</td>\n",
       "      <td>Rock</td>\n",
       "    </tr>\n",
       "    <tr>\n",
       "      <th>10</th>\n",
       "      <td>3</td>\n",
       "      <td>1970-01-01 06:08:48</td>\n",
       "      <td>4</td>\n",
       "      <td>Eevee</td>\n",
       "      <td>Normal</td>\n",
       "    </tr>\n",
       "    <tr>\n",
       "      <th>11</th>\n",
       "      <td>2</td>\n",
       "      <td>1970-01-01 06:08:46</td>\n",
       "      <td>4</td>\n",
       "      <td>Eevee</td>\n",
       "      <td>Normal</td>\n",
       "    </tr>\n",
       "    <tr>\n",
       "      <th>12</th>\n",
       "      <td>1</td>\n",
       "      <td>1970-01-01 06:08:44</td>\n",
       "      <td>5</td>\n",
       "      <td>Oddish</td>\n",
       "      <td>Grass</td>\n",
       "    </tr>\n",
       "    <tr>\n",
       "      <th>13</th>\n",
       "      <td>0</td>\n",
       "      <td>1970-01-01 06:08:42</td>\n",
       "      <td>6</td>\n",
       "      <td>Magikarp</td>\n",
       "      <td>Water</td>\n",
       "    </tr>\n",
       "  </tbody>\n",
       "</table>\n",
       "</div>"
      ],
      "text/plain": [
       "    id_capture           timestamp  id_pokemon pokemon_name pokemon_type\n",
       "0           13 1970-01-01 06:09:08           2    Bulbasaur        Grass\n",
       "1           12 1970-01-01 06:09:06           1      Geodude         Rock\n",
       "2           11 1970-01-01 06:09:04           5       Oddish        Grass\n",
       "3           10 1970-01-01 06:09:02           1      Geodude         Rock\n",
       "4            9 1970-01-01 06:09:00           6     Magikarp        Water\n",
       "5            8 1970-01-01 06:08:58           5       Oddish        Grass\n",
       "6            7 1970-01-01 06:08:56           3      Pikachu     Electric\n",
       "7            6 1970-01-01 06:08:54           3      Pikachu     Electric\n",
       "8            5 1970-01-01 06:08:52           5       Oddish        Grass\n",
       "9            4 1970-01-01 06:08:50           1      Geodude         Rock\n",
       "10           3 1970-01-01 06:08:48           4        Eevee       Normal\n",
       "11           2 1970-01-01 06:08:46           4        Eevee       Normal\n",
       "12           1 1970-01-01 06:08:44           5       Oddish        Grass\n",
       "13           0 1970-01-01 06:08:42           6     Magikarp        Water"
      ]
     },
     "execution_count": 22,
     "metadata": {},
     "output_type": "execute_result"
    }
   ],
   "source": [
    "spark.table(\"online_feature_store__pokemon_capturing_events\").orderBy(\n",
    "    \"id_capture\", \"timestamp\", ascending=False\n",
    ").toPandas()"
   ]
  },
  {
   "cell_type": "code",
   "execution_count": 23,
   "metadata": {},
   "outputs": [],
   "source": [
    "# waiting some time for new records\n",
    "sleep(10)"
   ]
  },
  {
   "cell_type": "code",
   "execution_count": 24,
   "metadata": {},
   "outputs": [
    {
     "data": {
      "text/html": [
       "<div>\n",
       "<style scoped>\n",
       "    .dataframe tbody tr th:only-of-type {\n",
       "        vertical-align: middle;\n",
       "    }\n",
       "\n",
       "    .dataframe tbody tr th {\n",
       "        vertical-align: top;\n",
       "    }\n",
       "\n",
       "    .dataframe thead th {\n",
       "        text-align: right;\n",
       "    }\n",
       "</style>\n",
       "<table border=\"1\" class=\"dataframe\">\n",
       "  <thead>\n",
       "    <tr style=\"text-align: right;\">\n",
       "      <th></th>\n",
       "      <th>id_capture</th>\n",
       "      <th>timestamp</th>\n",
       "      <th>id_pokemon</th>\n",
       "      <th>pokemon_name</th>\n",
       "      <th>pokemon_type</th>\n",
       "    </tr>\n",
       "  </thead>\n",
       "  <tbody>\n",
       "    <tr>\n",
       "      <th>0</th>\n",
       "      <td>18</td>\n",
       "      <td>1970-01-01 06:09:18</td>\n",
       "      <td>3</td>\n",
       "      <td>Pikachu</td>\n",
       "      <td>Electric</td>\n",
       "    </tr>\n",
       "    <tr>\n",
       "      <th>1</th>\n",
       "      <td>17</td>\n",
       "      <td>1970-01-01 06:09:16</td>\n",
       "      <td>1</td>\n",
       "      <td>Geodude</td>\n",
       "      <td>Rock</td>\n",
       "    </tr>\n",
       "    <tr>\n",
       "      <th>2</th>\n",
       "      <td>16</td>\n",
       "      <td>1970-01-01 06:09:14</td>\n",
       "      <td>1</td>\n",
       "      <td>Geodude</td>\n",
       "      <td>Rock</td>\n",
       "    </tr>\n",
       "    <tr>\n",
       "      <th>3</th>\n",
       "      <td>15</td>\n",
       "      <td>1970-01-01 06:09:12</td>\n",
       "      <td>2</td>\n",
       "      <td>Bulbasaur</td>\n",
       "      <td>Grass</td>\n",
       "    </tr>\n",
       "    <tr>\n",
       "      <th>4</th>\n",
       "      <td>14</td>\n",
       "      <td>1970-01-01 06:09:10</td>\n",
       "      <td>2</td>\n",
       "      <td>Bulbasaur</td>\n",
       "      <td>Grass</td>\n",
       "    </tr>\n",
       "    <tr>\n",
       "      <th>5</th>\n",
       "      <td>13</td>\n",
       "      <td>1970-01-01 06:09:08</td>\n",
       "      <td>2</td>\n",
       "      <td>Bulbasaur</td>\n",
       "      <td>Grass</td>\n",
       "    </tr>\n",
       "    <tr>\n",
       "      <th>6</th>\n",
       "      <td>12</td>\n",
       "      <td>1970-01-01 06:09:06</td>\n",
       "      <td>1</td>\n",
       "      <td>Geodude</td>\n",
       "      <td>Rock</td>\n",
       "    </tr>\n",
       "    <tr>\n",
       "      <th>7</th>\n",
       "      <td>11</td>\n",
       "      <td>1970-01-01 06:09:04</td>\n",
       "      <td>5</td>\n",
       "      <td>Oddish</td>\n",
       "      <td>Grass</td>\n",
       "    </tr>\n",
       "    <tr>\n",
       "      <th>8</th>\n",
       "      <td>10</td>\n",
       "      <td>1970-01-01 06:09:02</td>\n",
       "      <td>1</td>\n",
       "      <td>Geodude</td>\n",
       "      <td>Rock</td>\n",
       "    </tr>\n",
       "    <tr>\n",
       "      <th>9</th>\n",
       "      <td>9</td>\n",
       "      <td>1970-01-01 06:09:00</td>\n",
       "      <td>6</td>\n",
       "      <td>Magikarp</td>\n",
       "      <td>Water</td>\n",
       "    </tr>\n",
       "    <tr>\n",
       "      <th>10</th>\n",
       "      <td>8</td>\n",
       "      <td>1970-01-01 06:08:58</td>\n",
       "      <td>5</td>\n",
       "      <td>Oddish</td>\n",
       "      <td>Grass</td>\n",
       "    </tr>\n",
       "    <tr>\n",
       "      <th>11</th>\n",
       "      <td>7</td>\n",
       "      <td>1970-01-01 06:08:56</td>\n",
       "      <td>3</td>\n",
       "      <td>Pikachu</td>\n",
       "      <td>Electric</td>\n",
       "    </tr>\n",
       "    <tr>\n",
       "      <th>12</th>\n",
       "      <td>6</td>\n",
       "      <td>1970-01-01 06:08:54</td>\n",
       "      <td>3</td>\n",
       "      <td>Pikachu</td>\n",
       "      <td>Electric</td>\n",
       "    </tr>\n",
       "    <tr>\n",
       "      <th>13</th>\n",
       "      <td>5</td>\n",
       "      <td>1970-01-01 06:08:52</td>\n",
       "      <td>5</td>\n",
       "      <td>Oddish</td>\n",
       "      <td>Grass</td>\n",
       "    </tr>\n",
       "    <tr>\n",
       "      <th>14</th>\n",
       "      <td>4</td>\n",
       "      <td>1970-01-01 06:08:50</td>\n",
       "      <td>1</td>\n",
       "      <td>Geodude</td>\n",
       "      <td>Rock</td>\n",
       "    </tr>\n",
       "    <tr>\n",
       "      <th>15</th>\n",
       "      <td>3</td>\n",
       "      <td>1970-01-01 06:08:48</td>\n",
       "      <td>4</td>\n",
       "      <td>Eevee</td>\n",
       "      <td>Normal</td>\n",
       "    </tr>\n",
       "    <tr>\n",
       "      <th>16</th>\n",
       "      <td>2</td>\n",
       "      <td>1970-01-01 06:08:46</td>\n",
       "      <td>4</td>\n",
       "      <td>Eevee</td>\n",
       "      <td>Normal</td>\n",
       "    </tr>\n",
       "    <tr>\n",
       "      <th>17</th>\n",
       "      <td>1</td>\n",
       "      <td>1970-01-01 06:08:44</td>\n",
       "      <td>5</td>\n",
       "      <td>Oddish</td>\n",
       "      <td>Grass</td>\n",
       "    </tr>\n",
       "    <tr>\n",
       "      <th>18</th>\n",
       "      <td>0</td>\n",
       "      <td>1970-01-01 06:08:42</td>\n",
       "      <td>6</td>\n",
       "      <td>Magikarp</td>\n",
       "      <td>Water</td>\n",
       "    </tr>\n",
       "  </tbody>\n",
       "</table>\n",
       "</div>"
      ],
      "text/plain": [
       "    id_capture           timestamp  id_pokemon pokemon_name pokemon_type\n",
       "0           18 1970-01-01 06:09:18           3      Pikachu     Electric\n",
       "1           17 1970-01-01 06:09:16           1      Geodude         Rock\n",
       "2           16 1970-01-01 06:09:14           1      Geodude         Rock\n",
       "3           15 1970-01-01 06:09:12           2    Bulbasaur        Grass\n",
       "4           14 1970-01-01 06:09:10           2    Bulbasaur        Grass\n",
       "5           13 1970-01-01 06:09:08           2    Bulbasaur        Grass\n",
       "6           12 1970-01-01 06:09:06           1      Geodude         Rock\n",
       "7           11 1970-01-01 06:09:04           5       Oddish        Grass\n",
       "8           10 1970-01-01 06:09:02           1      Geodude         Rock\n",
       "9            9 1970-01-01 06:09:00           6     Magikarp        Water\n",
       "10           8 1970-01-01 06:08:58           5       Oddish        Grass\n",
       "11           7 1970-01-01 06:08:56           3      Pikachu     Electric\n",
       "12           6 1970-01-01 06:08:54           3      Pikachu     Electric\n",
       "13           5 1970-01-01 06:08:52           5       Oddish        Grass\n",
       "14           4 1970-01-01 06:08:50           1      Geodude         Rock\n",
       "15           3 1970-01-01 06:08:48           4        Eevee       Normal\n",
       "16           2 1970-01-01 06:08:46           4        Eevee       Normal\n",
       "17           1 1970-01-01 06:08:44           5       Oddish        Grass\n",
       "18           0 1970-01-01 06:08:42           6     Magikarp        Water"
      ]
     },
     "execution_count": 24,
     "metadata": {},
     "output_type": "execute_result"
    }
   ],
   "source": [
    "spark.table(\"online_feature_store__pokemon_capturing_events\").orderBy(\n",
    "    \"id_capture\", \"timestamp\", ascending=False\n",
    ").toPandas()"
   ]
  },
  {
   "cell_type": "markdown",
   "metadata": {},
   "source": [
    "- As we can see, the table is being updated in real time, since the data source is being read in stream mode\n",
    "- We show that we can enrich this events in real-time (Pokédex)"
   ]
  },
  {
   "cell_type": "code",
   "execution_count": 25,
   "metadata": {},
   "outputs": [],
   "source": [
    "# stop the stream process\n",
    "p.terminate()"
   ]
  }
 ],
 "metadata": {
  "kernelspec": {
   "display_name": "Python 3",
   "language": "python",
   "name": "python3"
  },
  "language_info": {
   "codemirror_mode": {
    "name": "ipython",
    "version": 3
   },
   "file_extension": ".py",
   "mimetype": "text/x-python",
   "name": "python",
   "nbconvert_exporter": "python",
   "pygments_lexer": "ipython3",
   "version": "3.6.8"
  }
 },
 "nbformat": 4,
 "nbformat_minor": 4
}
